{
  "nbformat": 4,
  "nbformat_minor": 0,
  "metadata": {
    "colab": {
      "provenance": [],
      "include_colab_link": true
    },
    "kernelspec": {
      "name": "python3",
      "display_name": "Python 3"
    },
    "language_info": {
      "name": "python"
    }
  },
  "cells": [
    {
      "cell_type": "markdown",
      "metadata": {
        "id": "view-in-github",
        "colab_type": "text"
      },
      "source": [
        "<a href=\"https://colab.research.google.com/github/g0r0kh/g0r0kh/blob/main/%D0%9A%D0%BE%D0%BF%D0%B8%D1%8F_%D0%B1%D0%BB%D0%BE%D0%BA%D0%BD%D0%BE%D1%82%D0%B0_%2203_06_2024_%22hw_1_ipynb%22%22.ipynb\" target=\"_parent\"><img src=\"https://colab.research.google.com/assets/colab-badge.svg\" alt=\"Open In Colab\"/></a>"
      ]
    },
    {
      "cell_type": "markdown",
      "source": [
        "# Домашнее #1\n",
        "Этот ноутбук предназначен для домашнего решения. Задание по 1-3 занятиям курса, выполнять можно уже сейчас.\n",
        "\n",
        "Для выполнения - скопируйте ноутбук себе, заполните поля и отправьте ссылку на новый ноутбук в сдачу домашнего на skillspace. Убедитесь что открыли доступ на просмотр ноутбука по ссылке (справа сверху меню \"Поделиться\")\n",
        "\n",
        "Меняйте код в существующих блоках кода только в местах, помеченных коментариями ***Ваш код***. Для любых дополнительных комманд и экспериментов создавайте доп блоки внутри ноутбука и пишите код там. Практика и альтернативные решения приветствуются, основной задачей этого блока будет дать вам возможность пописать свой код и освоиться в питоне."
      ],
      "metadata": {
        "id": "k91txez3jEgE"
      }
    },
    {
      "cell_type": "markdown",
      "source": [
        "# Переменные и операции\n",
        "\n",
        "Блок посвещён переменным и операциям с ними."
      ],
      "metadata": {
        "id": "I2lAqWeelLjD"
      }
    },
    {
      "cell_type": "code",
      "source": [
        "# Зададим базовые переменные чтобы с ними работать\n",
        "x = 10\n",
        "y = 21"
      ],
      "metadata": {
        "id": "WzmeOnq0kXgc"
      },
      "execution_count": null,
      "outputs": []
    },
    {
      "cell_type": "markdown",
      "source": [
        "Задайте переменную *z*, в которой сохраните значение суммы двух чисел\n",
        "\n",
        "Задайте переменную *k*, *m* - остаток и целая часть от деления *y* на *x*"
      ],
      "metadata": {
        "id": "vtdbaNBNmWAV"
      }
    },
    {
      "cell_type": "code",
      "source": [
        "# Ваш код здесь\n",
        "\n",
        "x = 10\n",
        "y = 21\n",
        "\n",
        "     #Задайте переменную z, в которой сохраните значение суммы двух чисел\n",
        "z = x + y\n",
        "\n",
        "     #Задайте переменную k остаток от деления y на x\n",
        "k = y%x\n",
        "\n",
        "     #Задайте переменную m целая часть от деления y на x\n",
        "m = y//x\n",
        "\n",
        "z , k, m"
      ],
      "metadata": {
        "id": "q_Ktw-ch9sSt",
        "colab": {
          "base_uri": "https://localhost:8080/"
        },
        "outputId": "577a65de-6217-4663-add5-203a6899726a"
      },
      "execution_count": null,
      "outputs": [
        {
          "output_type": "execute_result",
          "data": {
            "text/plain": [
              "(31, 1, 2)"
            ]
          },
          "metadata": {},
          "execution_count": 65
        }
      ]
    },
    {
      "cell_type": "markdown",
      "source": [
        "## Создание и работа со строками\n",
        "\n",
        "В этих заданиях все пункты могут быть выполнены без циклов.\n",
        "\n",
        "* Создайте переменную S1, в которую запишите \"abc\"\n",
        "* Создайте переменную S2, в которую запишите строку из 100 символов \"Z\"\n",
        "* Создайте строку S3 в которой запишите конкатинацию (склеивание) строк S1 и S2"
      ],
      "metadata": {
        "id": "e0tJEA11muHo"
      }
    },
    {
      "cell_type": "code",
      "source": [
        "# Ваш код здесь см.тернарные операторы\n",
        "\n",
        "      #Создайте переменную S1, в которую запишите \"abc\"\n",
        "\n",
        "S1 = \"abc\"\n",
        "      #Создайте переменную S2, в которую запишите строку из 100 символов \"Z\"\n",
        "\n",
        "S2 = \"Z\" * 1000000\n",
        "      #Создайте строку S3 в которой запишите конкатинацию (склеивание) строк S1 и S2\n",
        "\n",
        "S1+S2\n"
      ],
      "metadata": {
        "id": "OffIqs9zmdv-",
        "outputId": "1cc31a14-3e17-4d14-a2d2-888e2dc44755",
        "colab": {
          "base_uri": "https://localhost:8080/",
          "height": 35
        }
      },
      "execution_count": null,
      "outputs": [
        {
          "output_type": "execute_result",
          "data": {
            "text/plain": [
              "'abcZZZZZZZZZZZZZZZZZZZZZZZZZZZZZZZZZZZZZZZZZZZZZZZZZZZZZZZZZZZZZZZZZZZZZZZZZZZZZZZZZZZZZZZZZZZZZZZZZZZZ'"
            ],
            "application/vnd.google.colaboratory.intrinsic+json": {
              "type": "string"
            }
          },
          "metadata": {},
          "execution_count": 63
        }
      ]
    },
    {
      "cell_type": "markdown",
      "source": [
        "## Создание и работа с листами\n",
        "\n",
        "В этих заданиях все пункты могут быть выполнены без циклов.\n",
        "\n",
        "* Создайте лист L1 с пятью элементами (3, 10, 5, 8, 1).\n",
        "* Создайте лист L2 с числами от 0 до 9 (включительно)\n",
        "* Создайте лист L3 со строками вида \"L\", \"LL\", \"LLL\", и длинами от 1 до 9\n",
        "* Создайте лист L4 с пятью строками содержащими только буквы \"L\", и длиннами этих строк равным элементам L1\n",
        "* Создайте лист L5, в котором по очереди идут элементы листов L1, L3 и L4\n",
        "* Создайте лист L6, в котором лежат элементы L1 в порядке возростания\n"
      ],
      "metadata": {
        "id": "gBZkbDVYoA5z"
      }
    },
    {
      "cell_type": "code",
      "source": [
        "# Ваш код здесь\n",
        "     #Создайте лист L1 с пятью элементами (3, 10, 5, 8, 1).\n",
        "\n",
        "L1 =[3, 10, 5, 8, 1]\n",
        "\n",
        "     #Создайте лист L2 с числами от 0 до 9 (включительно)\n",
        "\n",
        "L2 = list(range(0,10))\n",
        "\n",
        "     #Создайте лист L3 со строками вида \"L\", \"LL\", \"LLL\", и длинами от 1 до 9\n",
        "\n",
        "L3=[i * \"L\" for i in L2[1:]]\n",
        "\n",
        "\n",
        "     #Создайте лист L4 с пятью строками содержащими только буквы \"L\", и длиннами этих строк равным элементам L1\n",
        "\n",
        "L4 = [i * \"L\" for i in L1]\n",
        "\n",
        "     #Создайте лист L5, в котором по очереди идут элементы листов L1, L3 и L4\n",
        "\n",
        "L5=(L1, L3, L4)\n",
        "\n",
        "     #Создайте лист L6, в котором лежат элементы L1 в порядке возростания\n",
        "\n",
        "L6=sorted(L1)\n",
        "\n",
        "L1, L2, L3, L4, L5, L6, L1, L2, L3, L4, L5, L6"
      ],
      "metadata": {
        "id": "A8BbY3_ZpQmg",
        "colab": {
          "base_uri": "https://localhost:8080/"
        },
        "outputId": "3e8a9972-ab99-416d-e8bf-909292f10b08"
      },
      "execution_count": null,
      "outputs": [
        {
          "output_type": "execute_result",
          "data": {
            "text/plain": [
              "([3, 10, 5, 8, 1],\n",
              " [0, 1, 2, 3, 4, 5, 6, 7, 8, 9],\n",
              " ['L',\n",
              "  'LL',\n",
              "  'LLL',\n",
              "  'LLLL',\n",
              "  'LLLLL',\n",
              "  'LLLLLL',\n",
              "  'LLLLLLL',\n",
              "  'LLLLLLLL',\n",
              "  'LLLLLLLLL'],\n",
              " ['LLL', 'LLLLLLLLLL', 'LLLLL', 'LLLLLLLL', 'L'],\n",
              " ([3, 10, 5, 8, 1],\n",
              "  ['L',\n",
              "   'LL',\n",
              "   'LLL',\n",
              "   'LLLL',\n",
              "   'LLLLL',\n",
              "   'LLLLLL',\n",
              "   'LLLLLLL',\n",
              "   'LLLLLLLL',\n",
              "   'LLLLLLLLL'],\n",
              "  ['LLL', 'LLLLLLLLLL', 'LLLLL', 'LLLLLLLL', 'L']),\n",
              " [1, 3, 5, 8, 10])"
            ]
          },
          "metadata": {},
          "execution_count": 66
        }
      ]
    },
    {
      "cell_type": "markdown",
      "source": [
        "Модификация листов. Перед выполнением не забудьте вернуть L2 к изначальному состоянию. Все задания всё так же можно выполнить без цикла for! Более того, каждый пункт можно выполнить одной строчкой (если у вас это не получается, пользуйтесь всем изученным материалом и просто реализуйте пункт)\n",
        "\n",
        "* Закиньте в конец листа L2 число 10\n",
        "* Замените третий (по порядку) элемент L2 на сумму всех элементов L2\n",
        "* Вставьте после четвёртого (по порядку) элемента в L2 число 200\n",
        "* Выведите все значения листа L2 (используйте print)\n",
        "* Выведите все значения листа L2 без квадратных скобок, между каждым числом вместо пробела используйте нижнее подчёркивание \"_\" (воспользуйтесь разорхивацией и переопределением параметров print)\n",
        "* Выведите все чётные по порядку элементы L2\n",
        "* Создайте лист L2_1, в который добавьте все чётные элементы из L2, сохранив их порядок.\n",
        "* Замените в L2 первые 5 элементов на все элементы L2_1\n",
        "* Вставьте в конец массива L2 отсортированные значения из массива L1 (не меняйте сам массив L1)\n",
        "* Выведите полученный массив L2\n",
        "* Выведите полученный массив L2 в обратном порядке"
      ],
      "metadata": {
        "id": "v1vvoOest3gW"
      }
    },
    {
      "cell_type": "code",
      "source": [
        "# Ваш код здесь\n",
        "     #Закиньте в конец листа L2 число 10\n",
        "\n",
        "L2.append(10)\n",
        "\n",
        "     #Замените третий (по порядку) элемент L2 на сумму всех элементов L2\n",
        "\n",
        "L2 [2]= sum(L2)\n",
        "\n",
        "     #Вставьте после четвёртого (по порядку) элемента в L2 число 200\n",
        "\n",
        "L2.insert(4,200)\n",
        "\n",
        "     #Выведите все значения листа L2 (используйте print)\n",
        "\n",
        "print(L2)\n",
        "\n",
        "     #Выведите все значения листа L2 без квадратных скобок, между каждым числом вместо пробела используйте нижнее подчёркивание \"_\" (воспользуйтесь разорхивацией и переопределением параметров print)\n",
        "\n",
        "print(*L2, sep='_')\n",
        "\n",
        "     #Выведите все чётные по порядку элементы L2\n",
        "\n",
        "sorted(list(filter(lambda x : x % 2 == 0, L2)))\n",
        "\n",
        "     #Создайте лист L2_1, в который добавьте все чётные элементы из L2, сохранив их порядок.\n",
        "\n",
        "L2_1=sorted(list(filter(lambda x : x % 2 == 0, L2)))\n",
        "\n",
        "     #Замените в L2 первые 5 элементов на все элементы L2_1\n",
        "\n",
        "L2_1+L2[5:]\n",
        "\n",
        "     #Вставьте в конец массива L2 отсортированные значения из массива L1 (не меняйте сам массив L1)\n",
        "\n",
        "L2=L2+sorted(L1)\n",
        "\n",
        "     #Выведите полученный массив L2\n",
        "\n",
        "print(L2)\n",
        "\n",
        "     #Выведите полученный массив L2 в обратном порядке\n",
        "\n",
        "print(sorted(L2, reverse=True))"
      ],
      "metadata": {
        "id": "skJovHfS0ZYJ",
        "outputId": "362df107-2485-42ae-fd74-7e4141a73a75",
        "colab": {
          "base_uri": "https://localhost:8080/"
        }
      },
      "execution_count": null,
      "outputs": [
        {
          "output_type": "stream",
          "name": "stdout",
          "text": [
            "[0, 1, 55, 3, 200, 4, 5, 6, 7, 8, 9, 10]\n",
            "0_1_55_3_200_4_5_6_7_8_9_10\n",
            "[0, 1, 55, 3, 200, 4, 5, 6, 7, 8, 9, 10, 1, 3, 5, 8, 10]\n",
            "[200, 55, 10, 10, 9, 8, 8, 7, 6, 5, 5, 4, 3, 3, 1, 1, 0]\n"
          ]
        }
      ]
    },
    {
      "cell_type": "markdown",
      "source": [
        "## Создание и работа со словарями и множествами\n",
        "\n",
        "В этих заданиях все пункты могут быть выполнены без циклов и в одну строчку. Это условие опять не обязательно, основная задача получить результат из пунктов\n",
        "\n",
        "* Создайте словарь D1, в котором будет храниться ваша фамилия как ключ и имя как значение. Добавьте в него несколько имён и фамилий\n",
        "* Создайте словарь D2, в котором ключами будут числа от 0 до 9, а значениями строки длинны от 0 до 9, состоящие из символов \"Z\"\n",
        "* Создайте словарь D3, с ключами от 0, 1, 2, ..., и значениями из L1 (для этого можно воспользоваться, например, enumerate)\n",
        "* Создайте словарь D4, с ключами x от 0 до 1000 и значениями 3x-1 если x чётный, и x/2 если x - нечётный. Так D4[5] = 14 (5 * 3 - 1), а D4[6] = 3 (6/2)\n",
        "* Создайте множество Set1 - чётных квадратов меньше 10000\n",
        "* Создайте множество Set2 - всех символов строки \"Длинная_строка\""
      ],
      "metadata": {
        "id": "kncpyzMcsMBY"
      }
    },
    {
      "cell_type": "code",
      "source": [
        "# Ваш код здесь\n",
        "      #Создайте словарь D1, в котором будет храниться ваша фамилия как ключ и имя как значение. Добавьте в него несколько имён и фамилий\n",
        "\n",
        "D1 = {'g0r0kh': 'ivan'}\n",
        "D1.update({'ivanov': 'ivan','petrov': 'petr','sidorov': 'sidr'})\n",
        "\n",
        "      #Создайте словарь D2, в котором ключами будут числа от 0 до 9, а значениями строки длинны от 0 до 9, состоящие из символов \"Z\"\n",
        "\n",
        "k = list(range(0,10))\n",
        "v = [i * \"L\" for i in k[1:]]\n",
        "D2 = dict(zip(k, v))\n",
        "D2\n",
        "      #Создайте словарь D3, с ключами от 0, 1, 2, ..., и значениями из L1 (для этого можно воспользоваться, например, enumerate)\n",
        "\n",
        "D3=dict(enumerate(L1))\n",
        "\n",
        "      #Создайте словарь D4, с ключами x от 0 до 1000 и значениями 3x-1 если x чётный, и x/2 если x - нечётный. Так D4[5] = 14 (5 * 3 - 1), а D4[6] = 3 (6/2)\n",
        "\n",
        "D4=dict(enumerate(range(0,1000)))\n",
        "for ch in D4:\n",
        "  if ch % 2 == 0:\n",
        "   D4[ch]=3*ch-1\n",
        "for ch in D4:\n",
        "  if ch % 2 != 0:\n",
        "   D4[ch]=ch/2\n",
        "D4\n",
        "\n",
        "      #Создайте множество Set1 - чётных квадратов меньше 10000\n",
        "\n",
        "set({i*i for i in range(1001) if i % 2 ==0})\n",
        "\n",
        "     #Создайте множество Set2 - всех символов строки \"Длинная_строка\"\n",
        "\n",
        "set(dict((enumerate(\"Длинная_строка\"))))\n",
        "\n"
      ],
      "metadata": {
        "id": "I60xwjABw8YK",
        "colab": {
          "base_uri": "https://localhost:8080/"
        },
        "outputId": "2806c2f7-e623-4ef3-be28-d15e2ff840fb"
      },
      "execution_count": null,
      "outputs": [
        {
          "output_type": "execute_result",
          "data": {
            "text/plain": [
              "{0, 1, 2, 3, 4, 5, 6, 7, 8, 9, 10, 11, 12, 13}"
            ]
          },
          "metadata": {},
          "execution_count": 68
        }
      ]
    },
    {
      "cell_type": "markdown",
      "source": [
        "В рамках работы с данными часто бывает полезно генерировать свои наборы данных случайным образом. Хорошим подспорьем тут может служить стандартная библиотека [Random](https://metanit.com/python/tutorial/6.1.php)). В этом блоке предлагается сгенерировать несколько структур данных со случайными значениями. Для того чтобы ознакомиться с методами библиотеки - посмотрите статью по ссылке выше, или [документацию](https://docs.python.org/3/library/random.html)"
      ],
      "metadata": {
        "id": "7QlIqRy25dgr"
      }
    },
    {
      "cell_type": "code",
      "source": [
        "import random # импорт библиотеки. Достаточно выполнить один раз внутри одной сессии интерпритатора"
      ],
      "metadata": {
        "id": "tSleTq_P5cmO"
      },
      "execution_count": null,
      "outputs": []
    },
    {
      "cell_type": "code",
      "source": [
        "# Примеры использования библиотеки. Заметим, что каждый вызов блока даёт случайный результат\n",
        "print(\"Случайное число от 0 до 1:\", random.random())\n",
        "a = [1, 2, 3, 4, 5, 7]\n",
        "print(\"Случайное значение из контейнера [1, 2, 3, 4, 5, 7]:\", random.choice(a))\n",
        "random.shuffle(a)\n",
        "print(\"Случайная перестановка контейнера [1, 2, 3, 4, 5, 7]:\", a)"
      ],
      "metadata": {
        "id": "fcGgoMPi6swp"
      },
      "execution_count": null,
      "outputs": []
    },
    {
      "cell_type": "markdown",
      "source": [
        "Пользуясь библиотекой - создайте следующие структуры данных\n",
        "\n",
        "* R1 - Лист с 10 случайными целыми числами от 1 до 6 (6 бросков кубиков)\n",
        "* R2 - Множество из 10 различных случайных чисел от 0 до 15\n",
        "* R3 - Словарь где ключи это числа от 0 до 9 и значения тоже случайные числа от 0 до 9, при этом каждая цифра присутствует как ключ и как значение ровно один раз.\n",
        "* (Задание со звёздочкой) R4 выполняет требования R3, но при этом нет ни одной цифры, для которой R4[x] = x (перестановка без неподвижной точки)"
      ],
      "metadata": {
        "id": "GpeiGkQ16sR0"
      }
    },
    {
      "cell_type": "code",
      "source": [
        "# Ваш код идёт сюда\n",
        "import random\n",
        "       #R1 - Лист с 10 случайными целыми числами от 1 до 6 (6 бросков кубиков)\n",
        "\n",
        "R1 = [random.randint(1, 6) for _ in range(10)]\n",
        "\n",
        "       #R2 - Множество из 10 различных случайных чисел от 0 до 15\n",
        "R2 = set([random.randint(0, 15) for _ in range(10)])\n",
        "\n",
        "       #R3 - Словарь где ключи это числа от 0 до 9 и значения тоже случайные числа от 0 до 9, при этом каждая цифра присутствует как ключ и как значение ровно один раз.\n",
        "\n",
        "a=[0, 1, 2, 3, 4, 5, 6, 7, 8 ]\n",
        "random.shuffle(a)\n",
        "R3=dict(enumerate(a))\n",
        "\n",
        "\n",
        "       #(Задание со звёздочкой) R4 выполняет требования R3, но при этом нет ни одной цифры, для которой R4[x] = x (перестановка без неподвижной точки)\n",
        "\n",
        "v=[0, 1, 2, 3, 4, 5, 6, 7, 8]\n",
        "random.shuffle(v)\n",
        "k = [i for i in v] # присваиваем индекс к случайному распределению значений R4[x] = x\n",
        "k_mv=[k[-1]] + k[:-1] # смещаем индексы вправо, т.е. индекс должен убегать от значения на соседний индекс справа до конца далее цикл\n",
        "R4=dict(zip(k_mv, v))\n",
        "print(R4)\n"
      ],
      "metadata": {
        "id": "GxAx7S_r6r5j",
        "colab": {
          "base_uri": "https://localhost:8080/"
        },
        "outputId": "aeb176de-c9b9-49f2-9807-58706e117d7d"
      },
      "execution_count": null,
      "outputs": [
        {
          "output_type": "stream",
          "name": "stdout",
          "text": [
            "{1: 2, 2: 7, 7: 6, 6: 5, 5: 0, 0: 3, 3: 4, 4: 8, 8: 1}\n"
          ]
        }
      ]
    },
    {
      "cell_type": "code",
      "source": [
        "#(Задание со звёздочкой) R4 выполняет требования R3, но при этом нет ни одной цифры, для которой R4[x] = x (перестановка без неподвижной точки)\n",
        "v=[0, 1, 2, 3, 4, 5, 6, 7, 8]\n",
        "random.shuffle(v)\n",
        "print(dict(zip([[i for i in v][-1]] + [i for i in v][:-1], v)))"
      ],
      "metadata": {
        "colab": {
          "base_uri": "https://localhost:8080/"
        },
        "id": "lVKa0ef_UW2c",
        "outputId": "5a4a9807-faf0-43ec-dc2c-e5960a18b614"
      },
      "execution_count": null,
      "outputs": [
        {
          "output_type": "stream",
          "name": "stdout",
          "text": [
            "{2: 3, 3: 6, 6: 1, 1: 7, 7: 8, 8: 5, 5: 4, 4: 0, 0: 2}\n"
          ]
        }
      ]
    },
    {
      "cell_type": "markdown",
      "source": [
        "# Функции и генераторы\n",
        "\n",
        "Блок посвещён функциям и генераторам. Смело пользуйтесь циклами и условными операторами, не пытайтесь записать всё в одну строчку, акцентируйте внимание на читаемости и понятности кода. Так же рекомендую оставлять коментарии в коде!"
      ],
      "metadata": {
        "id": "ZMp9V5m20ugL"
      }
    },
    {
      "cell_type": "markdown",
      "source": [
        "## Создание базовых функций\n",
        "\n",
        "* Напишите функцию next_number(x), которая возвращает число на один больше чем x"
      ],
      "metadata": {
        "id": "ADLZOS5i00Ns"
      }
    },
    {
      "cell_type": "code",
      "source": [
        "# Ваш код\n",
        "def next_num(x):\n",
        "    x += 1\n",
        "    return x\n",
        "print(\"Принято\" if next_num(10) == 11 else \"Что-то пошло не так\")\n"
      ],
      "metadata": {
        "id": "zIgmP8_S2Skw",
        "colab": {
          "base_uri": "https://localhost:8080/"
        },
        "outputId": "b4c944a3-c639-4b64-cf97-18097d0912c5"
      },
      "execution_count": null,
      "outputs": [
        {
          "output_type": "stream",
          "name": "stdout",
          "text": [
            "Принято\n"
          ]
        }
      ]
    },
    {
      "cell_type": "markdown",
      "source": [
        "* Напишите функцию remove_items(L, i), которая уберёт все вхождения объекта i из листа L\n",
        "\n",
        "(Метод .remove(i) убирает только один инстанс, и если его нет выбрасывает ошибку, так что функция не такая простая)"
      ],
      "metadata": {
        "id": "2DTX7MPB2qFk"
      }
    },
    {
      "cell_type": "code",
      "source": [
        "# Ваш код\n",
        "L = [1, 2, 3, 4, 1, 2, 3, 1, 2]\n",
        "def remove_items(L : list, x):\n",
        "    [L.remove(i) for i in L if i == x]\n",
        "    return L\n",
        "print(\"Принято\" if remove_items(L, 1) == [2, 3, 4, 2, 3, 2] else \"Что-то пошло не так\")"
      ],
      "metadata": {
        "colab": {
          "base_uri": "https://localhost:8080/"
        },
        "id": "uD4OqjgOvyyK",
        "outputId": "4f8177d4-b6da-4019-f0d1-3c12cf269106"
      },
      "execution_count": null,
      "outputs": [
        {
          "output_type": "stream",
          "name": "stdout",
          "text": [
            "Принято\n"
          ]
        }
      ]
    },
    {
      "cell_type": "markdown",
      "source": [
        "* Реализуйте функцию reverse_dict(D), которая возвращает \"развёрнутый\" словарь (превращает его ключи в значения и значения в ключи). В случае если у двух ключей одинаковое значение - вместо этого верните None\n",
        "\n",
        "В этом пункте верим что все значения хэшируются, если нет - пусть вылетает ошибка."
      ],
      "metadata": {
        "id": "g-lKx4_a32we"
      }
    },
    {
      "cell_type": "code",
      "source": [
        "# Ваш код\n",
        "def reverse_dict(D: dict):\n",
        "     D={v:k for k,v in D.items()}\n",
        "     return D\n",
        "print(reverse_dict({1:\"x\", 2:\"y\", 3:\"z\"}))\n",
        "print(reverse_dict({1:\"x\", 2:\"x\", 3:\"x\"}))"
      ],
      "metadata": {
        "colab": {
          "base_uri": "https://localhost:8080/"
        },
        "id": "IoGaluXwzaxW",
        "outputId": "92f894d9-1120-4e7b-ce2f-97df814e0e90"
      },
      "execution_count": null,
      "outputs": [
        {
          "output_type": "stream",
          "name": "stdout",
          "text": [
            "{'x': 1, 'y': 2, 'z': 3}\n",
            "{'x': 3}\n"
          ]
        }
      ]
    },
    {
      "cell_type": "markdown",
      "source": [
        "* Напишите генераторную функцию generate(x), которая создаёт генераторы которые бесконечно возвращают число х при итерировании."
      ],
      "metadata": {
        "id": "Ha57t6-07MPc"
      }
    },
    {
      "cell_type": "code",
      "source": [
        "def generate():\n",
        "    x = 0\n",
        "    while True:\n",
        "        yield x\n"
      ],
      "metadata": {
        "id": "X0zNlr5DsD14"
      },
      "execution_count": null,
      "outputs": []
    },
    {
      "cell_type": "code",
      "source": [
        "# Ваш код\n",
        "x = generate()\n",
        "for i in range(100):\n",
        "    print(next(x), end=\", \")\n"
      ],
      "metadata": {
        "id": "1Ejyk2zA7_nm",
        "colab": {
          "base_uri": "https://localhost:8080/"
        },
        "outputId": "5d36e417-99a5-4c8e-e92a-3ea515ffc217"
      },
      "execution_count": null,
      "outputs": [
        {
          "output_type": "stream",
          "name": "stdout",
          "text": [
            "0, 0, 0, 0, 0, 0, 0, 0, 0, 0, 0, 0, 0, 0, 0, 0, 0, 0, 0, 0, 0, 0, 0, 0, 0, 0, 0, 0, 0, 0, 0, 0, 0, 0, 0, 0, 0, 0, 0, 0, 0, 0, 0, 0, 0, 0, 0, 0, 0, 0, 0, 0, 0, 0, 0, 0, 0, 0, 0, 0, 0, 0, 0, 0, 0, 0, 0, 0, 0, 0, 0, 0, 0, 0, 0, 0, 0, 0, 0, 0, 0, 0, 0, 0, 0, 0, 0, 0, 0, 0, 0, 0, 0, 0, 0, 0, 0, 0, 0, 0, "
          ]
        }
      ]
    },
    {
      "cell_type": "markdown",
      "source": [
        "* Напишите генератор kollats(x) [последовательности Коллатца](https://ru.wikipedia.org/wiki/%D0%93%D0%B8%D0%BF%D0%BE%D1%82%D0%B5%D0%B7%D0%B0_%D0%9A%D0%BE%D0%BB%D0%BB%D0%B0%D1%82%D1%86%D0%B0#:~:text=%D0%91%D0%B5%D1%80%D1%91%D0%BC%20%D0%BB%D1%8E%D0%B1%D0%BE%D0%B5%20%D0%BD%D0%B0%D1%82%D1%83%D1%80%D0%B0%D0%BB%D1%8C%D0%BD%D0%BE%D0%B5%20%D1%87%D0%B8%D1%81%D0%BB%D0%BE%20n,%D0%B8%D0%BB%D0%B8%20%D0%BF%D0%BE%D0%B7%D0%B4%D0%BD%D0%BE%20%D0%BC%D1%8B%20%D0%BF%D0%BE%D0%BB%D1%83%D1%87%D0%B8%D0%BC%20%D0%B5%D0%B4%D0%B8%D0%BD%D0%B8%D1%86%D1%83.), который возвращает следующий элемент начиная с x\n",
        "\n",
        "*Коротко: Последовательность начинается с x, и каждый следующий элемент равен 3x+1 если прошлый элемент чётный, в противном случае следующий элемент это x/2*\n",
        "\n",
        "*Например генератор kollats(3) должен выдавать:*\n",
        "3 10 5 16 8 4 2 1\n"
      ],
      "metadata": {
        "id": "C2477eyL9AbE"
      }
    },
    {
      "cell_type": "code",
      "source": [
        "def kollats(n):\n",
        "  while n != 1:\n",
        "    n = n // 2 if n % 2 == 0 else 3*n + 1\n",
        "    yield n"
      ],
      "metadata": {
        "id": "VuxqMUc9vqxc"
      },
      "execution_count": null,
      "outputs": []
    },
    {
      "cell_type": "code",
      "source": [
        "# Ваш код\n",
        "for i in kollats(3):\n",
        "    print(i, end=\", \")"
      ],
      "metadata": {
        "id": "GkBCCztp9AA0",
        "colab": {
          "base_uri": "https://localhost:8080/"
        },
        "outputId": "7e844918-6a02-4095-ea45-915aad70fe9c"
      },
      "execution_count": null,
      "outputs": [
        {
          "output_type": "stream",
          "name": "stdout",
          "text": [
            "10, 5, 16, 8, 4, 2, 1, "
          ]
        }
      ]
    },
    {
      "cell_type": "markdown",
      "source": [
        "* Напишите генератор only_even(X), который берёт на вход контейнер или генератор и возвращает из него только чётные по порядку элементы."
      ],
      "metadata": {
        "id": "WbcLENAH-mnp"
      }
    },
    {
      "cell_type": "code",
      "source": [
        "# Ваш код\n",
        "\n",
        "for x in only_even([0, 1, 2, 3, 4, 5, 6, 7]):\n",
        "    print(x, end=\", \")\n",
        "print()\n",
        "\n",
        "def cubes():\n",
        "    i = 0\n",
        "    while True:\n",
        "        yield i\n",
        "\n",
        "\n",
        "for i, x in enumerate(only_even(cubes())):\n",
        "    if x > 10:\n",
        "        break\n",
        "    print(i, end=\", \")\n"
      ],
      "metadata": {
        "id": "FIprrI3O8Irs",
        "colab": {
          "base_uri": "https://localhost:8080/",
          "height": 280
        },
        "outputId": "e086a50e-5776-467d-a2ba-c91555d32bfc"
      },
      "execution_count": null,
      "outputs": [
        {
          "output_type": "error",
          "ename": "NameError",
          "evalue": "name 'nums' is not defined",
          "traceback": [
            "\u001b[0;31m---------------------------------------------------------------------------\u001b[0m",
            "\u001b[0;31mNameError\u001b[0m                                 Traceback (most recent call last)",
            "\u001b[0;32m<ipython-input-5-c802a0bcf07c>\u001b[0m in \u001b[0;36m<cell line: 3>\u001b[0;34m()\u001b[0m\n\u001b[1;32m      1\u001b[0m \u001b[0;31m# Ваш код\u001b[0m\u001b[0;34m\u001b[0m\u001b[0;34m\u001b[0m\u001b[0m\n\u001b[1;32m      2\u001b[0m \u001b[0;34m\u001b[0m\u001b[0m\n\u001b[0;32m----> 3\u001b[0;31m \u001b[0;32mfor\u001b[0m \u001b[0mx\u001b[0m \u001b[0;32min\u001b[0m \u001b[0monly_even\u001b[0m\u001b[0;34m(\u001b[0m\u001b[0;34m[\u001b[0m\u001b[0;36m0\u001b[0m\u001b[0;34m,\u001b[0m \u001b[0;36m1\u001b[0m\u001b[0;34m,\u001b[0m \u001b[0;36m2\u001b[0m\u001b[0;34m,\u001b[0m \u001b[0;36m3\u001b[0m\u001b[0;34m,\u001b[0m \u001b[0;36m4\u001b[0m\u001b[0;34m,\u001b[0m \u001b[0;36m5\u001b[0m\u001b[0;34m,\u001b[0m \u001b[0;36m6\u001b[0m\u001b[0;34m,\u001b[0m \u001b[0;36m7\u001b[0m\u001b[0;34m]\u001b[0m\u001b[0;34m)\u001b[0m\u001b[0;34m:\u001b[0m\u001b[0;34m\u001b[0m\u001b[0;34m\u001b[0m\u001b[0m\n\u001b[0m\u001b[1;32m      4\u001b[0m     \u001b[0mprint\u001b[0m\u001b[0;34m(\u001b[0m\u001b[0mx\u001b[0m\u001b[0;34m,\u001b[0m \u001b[0mend\u001b[0m\u001b[0;34m=\u001b[0m\u001b[0;34m\", \"\u001b[0m\u001b[0;34m)\u001b[0m\u001b[0;34m\u001b[0m\u001b[0;34m\u001b[0m\u001b[0m\n\u001b[1;32m      5\u001b[0m \u001b[0mprint\u001b[0m\u001b[0;34m(\u001b[0m\u001b[0;34m)\u001b[0m\u001b[0;34m\u001b[0m\u001b[0;34m\u001b[0m\u001b[0m\n",
            "\u001b[0;32m<ipython-input-4-2cf13dfdbaa0>\u001b[0m in \u001b[0;36monly_even\u001b[0;34m(cubes)\u001b[0m\n\u001b[1;32m      1\u001b[0m \u001b[0;32mdef\u001b[0m \u001b[0monly_even\u001b[0m\u001b[0;34m(\u001b[0m\u001b[0mcubes\u001b[0m\u001b[0;34m)\u001b[0m\u001b[0;34m:\u001b[0m\u001b[0;34m\u001b[0m\u001b[0;34m\u001b[0m\u001b[0m\n\u001b[0;32m----> 2\u001b[0;31m     \u001b[0;32mreturn\u001b[0m \u001b[0;34m[\u001b[0m\u001b[0mi\u001b[0m \u001b[0;32mfor\u001b[0m \u001b[0mi\u001b[0m \u001b[0;32min\u001b[0m \u001b[0mnums\u001b[0m \u001b[0;32mif\u001b[0m \u001b[0;32mnot\u001b[0m \u001b[0mi\u001b[0m \u001b[0;34m%\u001b[0m \u001b[0;36m2\u001b[0m\u001b[0;34m]\u001b[0m\u001b[0;34m\u001b[0m\u001b[0;34m\u001b[0m\u001b[0m\n\u001b[0m",
            "\u001b[0;31mNameError\u001b[0m: name 'nums' is not defined"
          ]
        }
      ]
    },
    {
      "cell_type": "code",
      "source": [
        "def only_even(container):\n",
        "    for index, item in enumerate(container):\n",
        "        if index % 2 == 1:  # Проверяем четность индекса\n",
        "            yield item"
      ],
      "metadata": {
        "id": "AXvTzLxE4Now"
      },
      "execution_count": null,
      "outputs": []
    },
    {
      "cell_type": "markdown",
      "source": [
        "* Напишите генератор cloner(x), который берёт на вход контейнер, и возвращает первый элемент один раз, второй - два раза, третий - три раза и так далее."
      ],
      "metadata": {
        "id": "F_e1YxMJQu7q"
      }
    },
    {
      "cell_type": "code",
      "source": [
        "def cloner(only_even):\n",
        "    for i, element in enumerate(only_even):\n",
        "        for _ in range(i + 1):\n",
        "            yield element"
      ],
      "metadata": {
        "id": "gnEi61D5yeQZ"
      },
      "execution_count": null,
      "outputs": []
    },
    {
      "cell_type": "code",
      "source": [
        "for i, x in enumerate(only_even(cubes())):\n",
        "    if x > 10:\n",
        "        break\n",
        "    print(i, end=\", \")"
      ],
      "metadata": {
        "colab": {
          "base_uri": "https://localhost:8080/",
          "height": 193
        },
        "id": "E2GFndTv4TPI",
        "outputId": "2032fcfd-c690-4bd1-ccaf-9109ac75990d"
      },
      "execution_count": null,
      "outputs": [
        {
          "output_type": "error",
          "ename": "NameError",
          "evalue": "name 'cubes' is not defined",
          "traceback": [
            "\u001b[0;31m---------------------------------------------------------------------------\u001b[0m",
            "\u001b[0;31mNameError\u001b[0m                                 Traceback (most recent call last)",
            "\u001b[0;32m<ipython-input-61-0df6e28def6f>\u001b[0m in \u001b[0;36m<cell line: 1>\u001b[0;34m()\u001b[0m\n\u001b[0;32m----> 1\u001b[0;31m \u001b[0;32mfor\u001b[0m \u001b[0mi\u001b[0m\u001b[0;34m,\u001b[0m \u001b[0mx\u001b[0m \u001b[0;32min\u001b[0m \u001b[0menumerate\u001b[0m\u001b[0;34m(\u001b[0m\u001b[0monly_even\u001b[0m\u001b[0;34m(\u001b[0m\u001b[0mcubes\u001b[0m\u001b[0;34m(\u001b[0m\u001b[0;34m)\u001b[0m\u001b[0;34m)\u001b[0m\u001b[0;34m)\u001b[0m\u001b[0;34m:\u001b[0m\u001b[0;34m\u001b[0m\u001b[0;34m\u001b[0m\u001b[0m\n\u001b[0m\u001b[1;32m      2\u001b[0m     \u001b[0;32mif\u001b[0m \u001b[0mx\u001b[0m \u001b[0;34m>\u001b[0m \u001b[0;36m10\u001b[0m\u001b[0;34m:\u001b[0m\u001b[0;34m\u001b[0m\u001b[0;34m\u001b[0m\u001b[0m\n\u001b[1;32m      3\u001b[0m         \u001b[0;32mbreak\u001b[0m\u001b[0;34m\u001b[0m\u001b[0;34m\u001b[0m\u001b[0m\n\u001b[1;32m      4\u001b[0m     \u001b[0mprint\u001b[0m\u001b[0;34m(\u001b[0m\u001b[0mi\u001b[0m\u001b[0;34m,\u001b[0m \u001b[0mend\u001b[0m\u001b[0;34m=\u001b[0m\u001b[0;34m\", \"\u001b[0m\u001b[0;34m)\u001b[0m\u001b[0;34m\u001b[0m\u001b[0;34m\u001b[0m\u001b[0m\n",
            "\u001b[0;31mNameError\u001b[0m: name 'cubes' is not defined"
          ]
        }
      ]
    },
    {
      "cell_type": "code",
      "source": [
        "# Ваш код\n",
        "\n",
        "for x in cloner([0, 1, 2, 3, 4, 5, 6, 7, 8, 9]):\n",
        "    print(x, end=\", \")\n",
        "print()"
      ],
      "metadata": {
        "id": "oA4b02TGQu7q",
        "colab": {
          "base_uri": "https://localhost:8080/"
        },
        "outputId": "1ac3aca6-8d94-4983-d2ce-2f7ab71e52d8"
      },
      "execution_count": null,
      "outputs": [
        {
          "output_type": "stream",
          "name": "stdout",
          "text": [
            "0, 1, 1, 2, 2, 2, 3, 3, 3, 3, 4, 4, 4, 4, 4, 5, 5, 5, 5, 5, 5, 6, 6, 6, 6, 6, 6, 6, 7, 7, 7, 7, 7, 7, 7, 7, 8, 8, 8, 8, 8, 8, 8, 8, 8, 9, 9, 9, 9, 9, 9, 9, 9, 9, 9, \n"
          ]
        }
      ]
    },
    {
      "cell_type": "markdown",
      "source": [
        "# Общие задания\n",
        "\n",
        "Блок посвещён всему изученному в целом. Реализуйте задачу используя изученные инструменты"
      ],
      "metadata": {
        "id": "Djq-AZ8qRmfZ"
      }
    },
    {
      "cell_type": "markdown",
      "source": [
        "* Выведите на экран [треугольник Паскаля](https://ru.wikipedia.org/wiki/%D0%A2%D1%80%D0%B5%D1%83%D0%B3%D0%BE%D0%BB%D1%8C%D0%BD%D0%B8%D0%BA_%D0%9F%D0%B0%D1%81%D0%BA%D0%B0%D0%BB%D1%8F#:~:text=%D0%A2%D1%80%D0%B5%D1%83%D0%B3%D0%BE%D0%BB%D1%8C%D0%BD%D0%B8%D0%BA%20%D0%9F%D0%B0%D1%81%D0%BA%D0%B0%D0%BB%D1%8F%20(%D0%B0%D1%80%D0%B8%D1%84%D0%BC%D0%B5%D1%82%D0%B8%D1%87%D0%B5%D1%81%D0%BA%D0%B8%D0%B9%20%D1%82%D1%80%D0%B5%D1%83%D0%B3%D0%BE%D0%BB%D1%8C%D0%BD%D0%B8%D0%BA)%20%E2%80%94,%D1%82%D1%80%D0%B5%D1%83%D0%B3%D0%BE%D0%BB%D1%8C%D0%BD%D0%B8%D0%BA%D0%B0%20%D1%81%D0%B8%D0%BC%D0%BC%D0%B5%D1%82%D1%80%D0%B8%D1%87%D0%BD%D1%8B%20%D0%BE%D1%82%D0%BD%D0%BE%D1%81%D0%B8%D1%82%D0%B5%D0%BB%D1%8C%D0%BD%D0%BE%20%D0%B2%D0%B5%D1%80%D1%82%D0%B8%D0%BA%D0%B0%D0%BB%D1%8C%D0%BD%D0%BE%D0%B9%20%D0%BE%D1%81%D0%B8.) до n-ного ряда.\n",
        "Треугольник Паскаля это треугольник из чисел, у которого две стороны содержат единицы, а внутренние числа это суммы двух соседних с верхнего ряда"
      ],
      "metadata": {
        "id": "dkv8sTg2RmfZ"
      }
    },
    {
      "cell_type": "code",
      "source": [
        "'''\n",
        "1\n",
        "1 1\n",
        "1 2 1\n",
        "1 3 3 1\n",
        "1 4 6 4 1\n",
        "\n",
        "Здесь ряд (1, 3, 3, 1) получился как (1, 1+2, 2+1, 1) из предыдущего\n",
        "'''"
      ],
      "metadata": {
        "id": "72GXV68N4FdZ"
      },
      "execution_count": null,
      "outputs": []
    },
    {
      "cell_type": "code",
      "source": [
        "# Ваш код. Можете либо просто вывести, либо сделать функцию pascal(N) и вызвать её"
      ],
      "metadata": {
        "id": "7YGqVZCjRmfZ"
      },
      "execution_count": null,
      "outputs": []
    },
    {
      "cell_type": "markdown",
      "source": [
        "* Сгенерируйте лист случайных чисел от 0 до 1000000 (используйте библиотеку [Random](https://metanit.com/python/tutorial/6.1.php)).\n",
        "\n",
        "Отсортируйте полученный массив таким образом, чтобы сначала в убывающем порядке шли все чётные числа, а потом в возростающем - нечётные."
      ],
      "metadata": {
        "id": "qXxdc9KCTAmJ"
      }
    },
    {
      "cell_type": "code",
      "source": [
        "# Ваш код."
      ],
      "metadata": {
        "id": "bnpBoxi_TAmZ"
      },
      "execution_count": null,
      "outputs": []
    },
    {
      "cell_type": "markdown",
      "source": [
        "* Сгенерируйте лист случайных чисел от 0 до 7 (используйте библиотеку [Random](https://metanit.com/python/tutorial/6.1.php)).\n",
        "\n",
        "Выведите график получанных значений. В примере представлен вариант столбчитой диаграммы"
      ],
      "metadata": {
        "id": "Y6P4-fGdUCVy"
      }
    },
    {
      "cell_type": "code",
      "source": [
        "'''\n",
        "Пример того что может вывести програма на [1, 4, 3, 6, 1]\n",
        "\n",
        "...#.\n",
        "...#.\n",
        ".#.#.\n",
        ".###.\n",
        ".###.\n",
        "#####\n",
        "14361\n",
        "'''"
      ],
      "metadata": {
        "id": "L2JovBj9UsZq"
      },
      "execution_count": null,
      "outputs": []
    },
    {
      "cell_type": "code",
      "source": [
        "# Ваш код."
      ],
      "metadata": {
        "id": "SDSSD62iUCV5"
      },
      "execution_count": null,
      "outputs": []
    }
  ]
}